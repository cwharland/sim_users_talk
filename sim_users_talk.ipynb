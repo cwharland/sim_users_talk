{
 "cells": [
  {
   "cell_type": "markdown",
   "metadata": {
    "slideshow": {
     "slide_type": "notes"
    }
   },
   "source": [
    "#Simulating Users\n",
    "\n",
    "### Possible Topics\n",
    "* Setup:\n",
    "    * Me (data science type, lots of for loops, clever in python)\n",
    "    * Them (devs, specs, dbs, not inference, tests if you are lucky)\n",
    "    * testing is a place we can all communicating\n",
    "* A/B Testing (notion vs truth)\n",
    "    * Diagram of simple vs Bing\n",
    "* Problem statement (it's one thing to to execute a plan, it's another to achieve robust/trustworthy exp)\n",
    "* Design vs Execution vs Scorecard\n",
    "    * Design can add complexity\n",
    "    * Execution is not analysis\n",
    "    * Scorecard is a \"view\" not the truth\n",
    "    * Parallel views (what someone did versus what we logged)\n",
    "* Execution to Scorecard phase:\n",
    "    * Empirically has had problems\n",
    "    * Many are just incorrect execution\n",
    "    * Some are incorrect aggregation\n",
    "    * Most were fixable with unit testing\n",
    "* Scaling and testing:\n",
    "    * Don't need actual experiments...we can simulate\n",
    "* Simulation\n",
    "    * Humans are suprisingly simple when it comes to log lines\n",
    "    * Artifact of what we log to some extent\n",
    "    * Can produce surprisingly accurate aggregate results\n",
    "* Simple flow:\n",
    "    1. Human visits\n",
    "    2. Human has choice (often influenced by treatment...you hope)\n",
    "    3. Human makes choice\n",
    "    4. (Optional) Human repeats 2 and 3 additional times\n",
    "    * Key point: Logs are *generated* by a process\n",
    "* Abstract the process:\n",
    "    1. Present a choice (probability distribution)\n",
    "    2. Draw from that distribution\n",
    "    3. Given the draw, present a second choice (another probability distribution, possibly different)\n",
    "    4. Draw again\n",
    "    5. Repeat\n",
    "    * Simple process but it captures the essence of the experiment\n",
    "    * The layering of draws and choice of distributions inject flexibility and complexity\n",
    "* "
   ]
  },
  {
   "cell_type": "code",
   "execution_count": null,
   "metadata": {
    "collapsed": true
   },
   "outputs": [],
   "source": []
  }
 ],
 "metadata": {
  "celltoolbar": "Slideshow",
  "kernelspec": {
   "display_name": "Python 2",
   "language": "python",
   "name": "python2"
  },
  "language_info": {
   "codemirror_mode": {
    "name": "ipython",
    "version": 2
   },
   "file_extension": ".py",
   "mimetype": "text/x-python",
   "name": "python",
   "nbconvert_exporter": "python",
   "pygments_lexer": "ipython2",
   "version": "2.7.10"
  }
 },
 "nbformat": 4,
 "nbformat_minor": 0
}
