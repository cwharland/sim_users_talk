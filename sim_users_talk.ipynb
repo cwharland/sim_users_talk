{
 "cells": [
  {
   "cell_type": "markdown",
   "metadata": {
    "slideshow": {
     "slide_type": "notes"
    }
   },
   "source": [
    "#Simulating Users\n",
    "\n",
    "### Possible Topics\n",
    "* Setup:\n",
    "    * Me (data science type, lots of for loops, clever in python)\n",
    "    * Them (devs, specs, dbs, not inference, tests if you are lucky)\n",
    "    * testing is a place we can all communicating\n",
    "* A/B Testing (notion vs truth)\n",
    "    * Diagram of simple vs Bing\n",
    "* Problem statement (it's one thing to to execute a plan, it's another to achieve robust/trustworthy exp)\n",
    "* Design vs Execution vs Scorecard\n",
    "    * Design can add complexity\n",
    "    * Execution is not analysis\n",
    "    * Scorecard is a \"view\" not the truth\n",
    "    * Parallel views (what someone did versus what we logged)\n",
    "* Execution to Scorecard phase:\n",
    "    * Empirically has had problems\n",
    "    * Many are just incorrect execution\n",
    "    * Some are incorrect aggregation\n",
    "    * Most were fixable with unit testing\n",
    "* Scaling and testing:\n",
    "    * Don't need actual experiments...we can simulate\n",
    "* Simulation\n",
    "    * Humans are suprisingly simple when it comes to log lines\n",
    "    * Artifact of what we log to some extent\n",
    "    * Can produce surprisingly accurate aggregate results\n",
    "* Simple flow:\n",
    "    1. Human visits\n",
    "    2. Human has choice (often influenced by treatment...you hope)\n",
    "    3. Human makes choice\n",
    "    4. (Optional) Human repeats 2 and 3 additional times\n",
    "    * Key point: Logs are *generated* by a process\n",
    "* Abstract the process:\n",
    "    1. Present a choice (probability distribution)\n",
    "    2. Draw from that distribution\n",
    "    3. Given the draw, present a second choice (another probability distribution, possibly different)\n",
    "    4. Draw again\n",
    "    5. Repeat\n",
    "    * Simple process but it captures the essence of the experiment\n",
    "    * The layering of draws and choice of distributions inject flexibility and complexity\n",
    "* Example:\n",
    "    * Simple click stream of an offer\n",
    "    * Provides a way for the devs to interact with the logs in multiple ways\n",
    "    * Easy to write tests for summary stats\n",
    "* Find the \"unknown\" parameters\n",
    "    * Simulated logs are noisy instaniations of your supplied parameters\n",
    "    * In other words, you put a number into the function and it spit out a ton of hand wavey examples\n",
    "    * Your task (well, the dev's task) is to recover that parameter (within reason)\n",
    "    * This is the foundation of the unit test framework\n",
    "* Example test:\n",
    "    * CTR difference between two groups\n",
    "    * How do I deal with \"random\" data in an assert?\n",
    "    * `Almost Equal`?\n",
    "* Dealing with random data:\n",
    "    * Seed (although this will not enable robustness)\n",
    "    * p-value (expensive since I need to test the function ~1000 times)\n",
    "    * Comparisons (balance between the two...i.e. do I always manage to find the more true one)\n",
    "    * I tend to land on the seed method when starting, migrate to p-value for robustness, and do comparisons when devs complain my tests take too long (doesn't happen that often)\n",
    "* End to end test for a conversion\n",
    "    * what do I need to test?\n",
    "        * Log integrity (are there illegal values?) Instrumentation problems (THIS IS A HUGE DEAL)\n",
    "        * Roll ups (you'd be surprised how broken this is)\n",
    "        * Reverse A/A (you are doing this right?)\n",
    "        * Comparisons (This is sort of the important part)\n",
    "* What else can I do?\n",
    "    * Simulate hypotheses\n",
    "    * Be really brute force about sample size calculation\n",
    "    * Practice scaling\n",
    "    * How do bugs or problem \"trickle down\""
   ]
  },
  {
   "cell_type": "code",
   "execution_count": null,
   "metadata": {
    "collapsed": true
   },
   "outputs": [],
   "source": []
  }
 ],
 "metadata": {
  "celltoolbar": "Slideshow",
  "kernelspec": {
   "display_name": "Python 2",
   "language": "python",
   "name": "python2"
  },
  "language_info": {
   "codemirror_mode": {
    "name": "ipython",
    "version": 2
   },
   "file_extension": ".py",
   "mimetype": "text/x-python",
   "name": "python",
   "nbconvert_exporter": "python",
   "pygments_lexer": "ipython2",
   "version": "2.7.10"
  }
 },
 "nbformat": 4,
 "nbformat_minor": 0
}
